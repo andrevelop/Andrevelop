{
  "nbformat": 4,
  "nbformat_minor": 0,
  "metadata": {
    "colab": {
      "provenance": [],
      "authorship_tag": "ABX9TyPqAl7DbSkpr9nnk89Bcqhb",
      "include_colab_link": true
    },
    "kernelspec": {
      "name": "python3",
      "display_name": "Python 3"
    },
    "language_info": {
      "name": "python"
    }
  },
  "cells": [
    {
      "cell_type": "markdown",
      "metadata": {
        "id": "view-in-github",
        "colab_type": "text"
      },
      "source": [
        "<a href=\"https://colab.research.google.com/github/andrevelop/FirstContact/blob/main/TreinoPython_Z.ipynb\" target=\"_parent\"><img src=\"https://colab.research.google.com/assets/colab-badge.svg\" alt=\"Open In Colab\"/></a>"
      ]
    },
    {
      "cell_type": "code",
      "source": [
        "print(12345)\n",
        "print('valor',12345)\n",
        "print('valor = {}'.format(12345))\n",
        "print(f'valor = {12345}')\n",
        "print(\"valor\",12345)\n",
        "print(\"valor = {}\".format(12345))\n",
        "print(f\"valor ={12345}\")\n",
        "\n"
      ],
      "metadata": {
        "colab": {
          "base_uri": "https://localhost:8080/"
        },
        "id": "SYzDEYoXbWhk",
        "outputId": "983146f1-0593-4008-ab3d-c8cae9b27d36"
      },
      "execution_count": 8,
      "outputs": [
        {
          "output_type": "stream",
          "name": "stdout",
          "text": [
            "12345\n",
            "valor 12345\n",
            "valor = 12345\n",
            "valor = 12345\n",
            "valor 12345\n",
            "valor = 12345\n",
            "valor =12345\n"
          ]
        }
      ]
    }
  ]
}